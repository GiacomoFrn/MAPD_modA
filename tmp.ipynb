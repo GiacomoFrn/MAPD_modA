{
 "cells": [
  {
   "cell_type": "code",
   "execution_count": 1,
   "metadata": {},
   "outputs": [],
   "source": [
    "from scipy import signal\n",
    "numtaps = 79\n",
    "f = 0.2\n",
    "coeff = signal.firwin(numtaps, f, pass_zero ='lowpass')\n"
   ]
  },
  {
   "cell_type": "code",
   "execution_count": 2,
   "metadata": {},
   "outputs": [
    {
     "data": {
      "text/plain": [
       "(0.0, 0.5430379746835443)"
      ]
     },
     "execution_count": 2,
     "metadata": {},
     "output_type": "execute_result"
    },
    {
     "data": {
      "image/png": "[encoded data removed]",
      "text/plain": [
       "<Figure size 432x288 with 1 Axes>"
      ]
     },
     "metadata": {
      "needs_background": "light"
     },
     "output_type": "display_data"
    }
   ],
   "source": [
    "import numpy as np\n",
    "from scipy import fftpack\n",
    "fft_coeff = fftpack.fft(coeff)\n",
    "pow = np.abs(fft_coeff)\n",
    "freqs = fftpack.fftfreq(len(coeff))\n",
    "idx = np.argsort(freqs)\n",
    "import matplotlib.pyplot as plt\n",
    "plt.plot(freqs[idx], pow[idx])\n",
    "plt.xlim(left=0)"
   ]
  },
  {
   "cell_type": "code",
   "execution_count": 3,
   "metadata": {},
   "outputs": [
    {
     "name": "stderr",
     "output_type": "stream",
     "text": [
      "<ipython-input-3-d7345096e90b>:2: WavFileWarning: Chunk (non-data) not understood, skipping it.\n",
      "  freq_sample, sig_audio = wavfile.read(\"welcome.wav\")\n"
     ]
    },
    {
     "data": {
      "text/plain": [
       "numpy.ndarray"
      ]
     },
     "execution_count": 3,
     "metadata": {},
     "output_type": "execute_result"
    }
   ],
   "source": [
    "from scipy.io import wavfile\n",
    "freq_sample, sig_audio = wavfile.read(\"welcome.wav\")\n",
    "type(sig_audio)"
   ]
  },
  {
   "cell_type": "code",
   "execution_count": 4,
   "metadata": {},
   "outputs": [
    {
     "name": "stdout",
     "output_type": "stream",
     "text": [
      "\n",
      "Shape of Signal: (645632,)\n",
      "Signal Datatype: int16\n",
      "Signal duration: 40.35 seconds\n"
     ]
    },
    {
     "data": {
      "text/plain": [
       "[<matplotlib.lines.Line2D at 0x7f6b8bd3b4f0>]"
      ]
     },
     "execution_count": 4,
     "metadata": {},
     "output_type": "execute_result"
    },
    {
     "data": {
      "image/png": "[encoded data removed]",
      "text/plain": [
       "<Figure size 432x288 with 1 Axes>"
      ]
     },
     "metadata": {
      "needs_background": "light"
     },
     "output_type": "display_data"
    }
   ],
   "source": [
    "# Output the parameters: Signal Data Type, Sampling Frequency and Duration\n",
    "print('\\nShape of Signal:', sig_audio.shape)\n",
    "print('Signal Datatype:', sig_audio.dtype)\n",
    "print('Signal duration:', round(sig_audio.shape[0] / float(freq_sample), 2), 'seconds')\n",
    "\n",
    "# Normalize the Signal Value and Plot it on a graph\n",
    "pow_audio_signal = sig_audio / np.power(2, 15)\n",
    "pow_audio_signal = pow_audio_signal [:100]\n",
    "time_axis = 1000 * np.arange(0, len(pow_audio_signal), 1) / float(freq_sample)\n",
    "plt.plot(time_axis, pow_audio_signal, color='blue')"
   ]
  },
  {
   "cell_type": "code",
   "execution_count": 5,
   "metadata": {},
   "outputs": [
    {
     "data": {
      "text/plain": [
       "array([ -1,  -1,  -1, ..., -26, -26, -25], dtype=int16)"
      ]
     },
     "execution_count": 5,
     "metadata": {},
     "output_type": "execute_result"
    }
   ],
   "source": [
    "sig_audio "
   ]
  },
  {
   "cell_type": "code",
   "execution_count": 6,
   "metadata": {},
   "outputs": [
    {
     "data": {
      "text/plain": [
       "645710"
      ]
     },
     "execution_count": 6,
     "metadata": {},
     "output_type": "execute_result"
    }
   ],
   "source": [
    "N=len(coeff)+len(sig_audio)-1 #lunghezza della convoluzione \n",
    "N"
   ]
  },
  {
   "cell_type": "code",
   "execution_count": 7,
   "metadata": {},
   "outputs": [],
   "source": [
    "audio = [sig_audio[i] if i<len(sig_audio) else 0 for i in range(N)] #DFT \n",
    "coeff_1 = [coeff[i] if i<len(coeff) else 0 for i in range(N)]\n",
    "fft_coeff = fftpack.fft(coeff_1)\n",
    "fft_audio = fftpack.fft(audio)\n",
    "out = fft_audio*fft_coeff\n",
    "freqs = fftpack.fftfreq(N)\n"
   ]
  },
  {
   "cell_type": "code",
   "execution_count": 8,
   "metadata": {},
   "outputs": [
    {
     "data": {
      "text/plain": [
       "(0.0, 0.5499983738830125)"
      ]
     },
     "execution_count": 8,
     "metadata": {},
     "output_type": "execute_result"
    },
    {
     "data": {
      "image/png": "[encoded data removed]",
      "text/plain": [
       "<Figure size 432x288 with 1 Axes>"
      ]
     },
     "metadata": {
      "needs_background": "light"
     },
     "output_type": "display_data"
    }
   ],
   "source": [
    "plt.plot(freqs, np.abs(fft_audio))\n",
    "plt.plot(freqs, np.abs(out))\n",
    "plt.xlim(left = 0)"
   ]
  },
  {
   "cell_type": "code",
   "execution_count": 9,
   "metadata": {},
   "outputs": [
    {
     "data": {
      "text/plain": [
       "array([-3.84485925e-04, -6.50387459e-04, -7.04565902e-04, -4.86121548e-04,\n",
       "        8.09736816e-19,  6.43952969e-04,  1.21946042e-03,  1.43311353e-03,\n",
       "        1.04152227e-03, -1.52839247e-18, -1.43063983e-03, -2.69783283e-03,\n",
       "       -3.13040598e-03, -2.23482444e-03,  2.67744059e-18,  2.94339762e-03,\n",
       "        5.43291778e-03,  6.17570556e-03,  4.32491097e-03, -4.07298624e-18,\n",
       "       -5.50987832e-03, -1.00325936e-02, -1.12750632e-02, -7.82525619e-03,\n",
       "        5.49168474e-18,  9.86987197e-03,  1.79634636e-02,  2.02517196e-02,\n",
       "        1.41587248e-02, -6.70648600e-18, -1.84170268e-02, -3.44124782e-02,\n",
       "       -4.02402805e-02, -2.95934660e-02,  7.52297188e-18,  4.57499126e-02,\n",
       "        9.97417980e-02,  1.50736329e-01,  1.87157300e-01,  2.00362411e-01,\n",
       "        1.87157300e-01,  1.50736329e-01,  9.97417980e-02,  4.57499126e-02,\n",
       "        7.52297188e-18, -2.95934660e-02, -4.02402805e-02, -3.44124782e-02,\n",
       "       -1.84170268e-02, -6.70648600e-18,  1.41587248e-02,  2.02517196e-02,\n",
       "        1.79634636e-02,  9.86987197e-03,  5.49168474e-18, -7.82525619e-03,\n",
       "       -1.12750632e-02, -1.00325936e-02, -5.50987832e-03, -4.07298624e-18,\n",
       "        4.32491097e-03,  6.17570556e-03,  5.43291778e-03,  2.94339762e-03,\n",
       "        2.67744059e-18, -2.23482444e-03, -3.13040598e-03, -2.69783283e-03,\n",
       "       -1.43063983e-03, -1.52839247e-18,  1.04152227e-03,  1.43311353e-03,\n",
       "        1.21946042e-03,  6.43952969e-04,  8.09736816e-19, -4.86121548e-04,\n",
       "       -7.04565902e-04, -6.50387459e-04, -3.84485925e-04])"
      ]
     },
     "execution_count": 9,
     "metadata": {},
     "output_type": "execute_result"
    }
   ],
   "source": [
    "coeff"
   ]
  },
  {
   "cell_type": "code",
   "execution_count": null,
   "metadata": {},
   "outputs": [],
   "source": []
  }
 ],
 "metadata": {
  "interpreter": {
   "hash": "c764765d3a23b82ea6dc8b51e68f828b52dfa8d66dff00b67cebce7fa206e036"
  },
  "kernelspec": {
   "display_name": "Python 3",
   "language": "python",
   "name": "python3"
  },
  "language_info": {
   "codemirror_mode": {
    "name": "ipython",
    "version": 3
   },
   "file_extension": ".py",
   "mimetype": "text/x-python",
   "name": "python",
   "nbconvert_exporter": "python",
   "pygments_lexer": "ipython3",
   "version": "3.8.10"
  }
 },
 "nbformat": 4,
 "nbformat_minor": 2
}
